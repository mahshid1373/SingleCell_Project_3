{
 "cells": [
  {
   "cell_type": "markdown",
   "metadata": {},
   "source": [
    "# Project 3- Spatial Transcriptomics\n",
    "Deadline: 19.01.2025, 23:59"
   ]
  },
  {
   "cell_type": "markdown",
   "metadata": {},
   "source": [
    "## Introduction to Seurat\n",
    "The tool that you will mainly use in this project is Seurat, a tool you are already familiar with in project 1. Seurat includes the functionality to explicitly analyze spatial transcriptomics data. A tutorial and good introduction can be found here"
   ]
  },
  {
   "cell_type": "markdown",
   "metadata": {},
   "source": [
    "## Download the data\n",
    "You can download the dataset for this project under the following link: https://icbb-share.s3.eu-central-1.amazonaws.com/single-cell-bioinformatics/scbi_p3.zip"
   ]
  },
  {
   "cell_type": "markdown",
   "metadata": {},
   "source": [
    "## System setup\n",
    "Before you start programming, you should set up the system as following:\n",
    "\n",
    "    devtools::install_github(\"sqjin/CellChat\")"
   ]
  },
  {
   "cell_type": "markdown",
   "metadata": {},
   "source": [
    "***"
   ]
  },
  {
   "cell_type": "markdown",
   "metadata": {},
   "source": [
    "# Week 1: (9 Points +3 Bonus)\n",
    "## 1 Spatial Transcriptomics (Bonus: 5P)\n",
    "10X genomics Visum technology. The given data set is a spatial transcriptomics data set of a mouse brain. It has been aligned and prepared using the Space Ranger software."
   ]
  },
  {
   "cell_type": "markdown",
   "metadata": {},
   "source": [
    "### 1.1 Properties of the Slides (1P)\n",
    "Give the size of the point, the distance between points, and the number of points for this technology."
   ]
  },
  {
   "cell_type": "code",
   "execution_count": 1,
   "metadata": {
    "vscode": {
     "languageId": "r"
    }
   },
   "outputs": [
    {
     "name": "stdout",
     "output_type": "stream",
     "text": [
      "Point size: 55 \n",
      "Distance between points: 100 \n",
      "Number of points: 5000 \n"
     ]
    }
   ],
   "source": [
    "point_size <- 55\n",
    "distance_between_points <- 100\n",
    "number_of_points <- 5000\n",
    "\n",
    "cat(\"Point size:\", point_size, \"\\n\")\n",
    "cat(\"Distance between points:\", distance_between_points, \"\\n\")\n",
    "cat(\"Number of points:\", number_of_points, \"\\n\")"
   ]
  },
  {
   "cell_type": "markdown",
   "metadata": {},
   "source": [
    "### 1.2 Resolution of the spatial transcriptomics technology (1P)\n",
    "Compare the technology’s resolution with the size of an average eukaryotic cell and explain what this means when dealing with the data."
   ]
  },
  {
   "cell_type": "code",
   "execution_count": 2,
   "metadata": {
    "vscode": {
     "languageId": "r"
    }
   },
   "outputs": [
    {
     "name": "stdout",
     "output_type": "stream",
     "text": [
      "The resolution of this technology is approximately 10 times larger than the size of an average eukaryotic cell. This means that each spot represents gene expression averaged over multiple cells. \n"
     ]
    }
   ],
   "source": [
    "average_cell_size <- 10\n",
    "resolution_comment <- \"The resolution of this technology is approximately 10 times larger than the size of an average eukaryotic cell. This means that each spot represents gene expression averaged over multiple cells.\"\n",
    "cat(resolution_comment, \"\\n\")"
   ]
  },
  {
   "cell_type": "markdown",
   "metadata": {},
   "source": [
    "### 1.3 Output of Space Ranger (1P)\n",
    "Have a first look at the given data. Provide the image taken of the sample, the coordinates of the spots, and one gene-expression matrix."
   ]
  },
  {
   "cell_type": "code",
   "execution_count": null,
   "metadata": {
    "vscode": {
     "languageId": "r"
    }
   },
   "outputs": [],
   "source": [
    "path_to_data <- \"~/Downloads/project_3_dataset/\"  # Replace with actual path\n",
    "data <- Load10X_Spatial(path_to_data)"
   ]
  },
  {
   "cell_type": "markdown",
   "metadata": {},
   "source": [
    "## 2 Spatial transcriptomics data in Seurat (3P)\n",
    "Refer to the tutorial: https://satijalab.org/seurat/articles/spatial_vignette.html"
   ]
  }
 ],
 "metadata": {
  "kernelspec": {
   "display_name": "R",
   "language": "R",
   "name": "ir"
  },
  "language_info": {
   "codemirror_mode": "r",
   "file_extension": ".r",
   "mimetype": "text/x-r-source",
   "name": "R",
   "pygments_lexer": "r",
   "version": "4.4.2"
  }
 },
 "nbformat": 4,
 "nbformat_minor": 2
}
