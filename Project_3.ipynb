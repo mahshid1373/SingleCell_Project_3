{
 "cells": [
  {
   "cell_type": "markdown",
   "metadata": {},
   "source": [
    "# Project 3- Spatial Transcriptomics\n",
    "Deadline: 19.01.2025, 23:59"
   ]
  },
  {
   "cell_type": "markdown",
   "metadata": {},
   "source": [
    "## Introduction to Seurat\n",
    "The tool that you will mainly use in this project is Seurat, a tool you are already familiar with in project 1. Seurat includes the functionality to explicitly analyze spatial transcriptomics data. A tutorial and good introduction can be found here"
   ]
  },
  {
   "cell_type": "markdown",
   "metadata": {},
   "source": [
    "## Download the data\n",
    "You can download the dataset for this project under the following link: https://icbb-share.s3.eu-central-1.amazonaws.com/single-cell-bioinformatics/scbi_p3.zip"
   ]
  },
  {
   "cell_type": "markdown",
   "metadata": {},
   "source": [
    "## System setup\n",
    "Before you start programming, you should set up the system as following:\n",
    "\n",
    "    devtools::install_github(\"sqjin/CellChat\")"
   ]
  },
  {
   "cell_type": "markdown",
   "metadata": {},
   "source": [
    "***"
   ]
  },
  {
   "cell_type": "markdown",
   "metadata": {},
   "source": [
    "# Week 1: (9 Points +3 Bonus)\n",
    "## 1 Spatial Transcriptomics (Bonus: 5P)\n",
    "10X genomics Visum technology. The given data set is a spatial transcriptomics data set of a mouse brain. It has been aligned and prepared using the Space Ranger software."
   ]
  },
  {
   "cell_type": "markdown",
   "metadata": {},
   "source": [
    "## 1.1 Properties of the Slides (1P)\n",
    "Give the size of the point, the distance between points, and the number of points for this technology."
   ]
  },
  {
   "cell_type": "code",
   "execution_count": 1,
   "metadata": {
    "vscode": {
     "languageId": "r"
    }
   },
   "outputs": [
    {
     "name": "stdout",
     "output_type": "stream",
     "text": [
      "Point size: 55 \n",
      "Distance between points: 100 \n",
      "Number of points: 5000 \n"
     ]
    }
   ],
   "source": [
    "point_size <- 55\n",
    "distance_between_points <- 100\n",
    "number_of_points <- 5000\n",
    "\n",
    "cat(\"Point size:\", point_size, \"\\n\")\n",
    "cat(\"Distance between points:\", distance_between_points, \"\\n\")\n",
    "cat(\"Number of points:\", number_of_points, \"\\n\")"
   ]
  }
 ],
 "metadata": {
  "kernelspec": {
   "display_name": "R",
   "language": "R",
   "name": "ir"
  },
  "language_info": {
   "codemirror_mode": "r",
   "file_extension": ".r",
   "mimetype": "text/x-r-source",
   "name": "R",
   "pygments_lexer": "r",
   "version": "4.4.2"
  }
 },
 "nbformat": 4,
 "nbformat_minor": 2
}
